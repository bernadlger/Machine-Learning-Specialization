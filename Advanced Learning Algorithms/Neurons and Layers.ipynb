{
 "cells": [
  {
   "cell_type": "markdown",
   "id": "51803e91-0092-45c8-8350-655744779d17",
   "metadata": {},
   "source": [
    "In this lab we'll explore the inner workings of neurons/units and layers. "
   ]
  },
  {
   "cell_type": "code",
   "execution_count": 44,
   "id": "af91e82e-d42b-4af1-a588-e0d855ff022b",
   "metadata": {},
   "outputs": [],
   "source": [
    "import numpy as np\n",
    "import matplotlib.pyplot as plt\n",
    "import tensorflow as tf\n",
    "from tensorflow.keras.layers import Dense, Input\n",
    "from tensorflow.keras import Sequential\n",
    "from tensorflow.keras.losses import MeanSquaredError, BinaryCrossentropy\n",
    "from tensorflow.keras.activations import sigmoid\n",
    "import logging\n"
   ]
  },
  {
   "cell_type": "markdown",
   "id": "2a2fc13e-2f17-4a0c-a29a-09c20389d6a2",
   "metadata": {},
   "source": [
    "### Neuron without activation - Regression/Linear Model"
   ]
  },
  {
   "cell_type": "code",
   "execution_count": 45,
   "id": "5394a988-ccde-4960-8566-de8feb3ae5cd",
   "metadata": {},
   "outputs": [],
   "source": [
    "#DATASET\n",
    "X_Train = np.array([[1.0], [2.0]], dtype=np.float32) #(size in 1000 square feet)\n",
    "Y_Train = np.array([[300.0], [500.0]], dtype=np.float32) #(price in 1000s of dollars)\n"
   ]
  },
  {
   "cell_type": "markdown",
   "id": "a4d99df3-f7c2-4059-b759-b62ce938c04d",
   "metadata": {},
   "source": [
    "#### Regression/Linear Model \n",
    "The function implemented by a neuron with no activation is the same as linear regression:\n",
    "$$ f_{\\mathbf{w},b}(x^{(i)}) = \\mathbf{w}\\cdot x^{(i)} + b \\tag{1}$$"
   ]
  },
  {
   "cell_type": "markdown",
   "id": "33f2b9d2-3b51-4822-b1a4-5b9dd602d602",
   "metadata": {},
   "source": [
    "We can define a layer with one neuron or unit and compare it to the familiar linear regression function:"
   ]
  },
  {
   "cell_type": "code",
   "execution_count": 46,
   "id": "23fc65f1-f65c-43a6-9955-0053609b811b",
   "metadata": {},
   "outputs": [],
   "source": [
    "linear_layer = tf.keras.layers.Dense(units = 1, activation = 'linear')"
   ]
  },
  {
   "cell_type": "markdown",
   "id": "a10a56dc-79c2-4064-9d72-d3330574b837",
   "metadata": {},
   "source": [
    "Note: The input to the layer must be 2-D! (So we'll reshape it)"
   ]
  },
  {
   "cell_type": "code",
   "execution_count": 47,
   "id": "1aa5cc4c-9949-41e3-922b-10015fe116c6",
   "metadata": {},
   "outputs": [
    {
     "name": "stdout",
     "output_type": "stream",
     "text": [
      "tf.Tensor([[0.70271146]], shape=(1, 1), dtype=float32)\n"
     ]
    }
   ],
   "source": [
    "a1 = linear_layer(X_Train[0].reshape(1,1))\n",
    "print(a1)\n",
    "#The result is a tensor (another name for an array) with a shape of (1,1) or one entry.\n",
    "#These weights are (w) randomly initialized to small numbers and the bias (b) defaults to being initialized to zero."
   ]
  },
  {
   "cell_type": "code",
   "execution_count": 48,
   "id": "cb6d9076-3829-42b0-b2d3-6c76f914f3a7",
   "metadata": {},
   "outputs": [
    {
     "name": "stdout",
     "output_type": "stream",
     "text": [
      "[array([[200.]], dtype=float32), array([100.], dtype=float32)]\n"
     ]
    }
   ],
   "source": [
    "#The weights are initialized to random values so let's set them to some known values.\n",
    "set_w = np.array([[200]])\n",
    "set_b = np.array([100])\n",
    "linear_layer.set_weights([set_w, set_b])\n",
    "print(linear_layer.get_weights())"
   ]
  },
  {
   "cell_type": "code",
   "execution_count": 49,
   "id": "10eb2933-c716-40fd-902f-07cb9d5aa948",
   "metadata": {},
   "outputs": [
    {
     "name": "stdout",
     "output_type": "stream",
     "text": [
      "a1= tf.Tensor([[300.]], shape=(1, 1), dtype=float32)\n",
      "alin= [[300.]]\n"
     ]
    }
   ],
   "source": [
    "# Comparing the output of the Keras Dense layer with manual NumPy computation to verify that the layer correctly applies the linear transformation\n",
    "a1 = linear_layer(X_Train[0].reshape(1,1))\n",
    "print(\"a1=\", a1)\n",
    "alin = np.dot(set_w, X_Train[0].reshape(1,1)) + set_b\n",
    "print(\"alin=\", alin)"
   ]
  },
  {
   "cell_type": "markdown",
   "id": "569b96bc-d0e2-4dbc-9b40-91f1cafbae9b",
   "metadata": {},
   "source": [
    "They produce the same values!\n",
    "We can use our linear layer to make predictions on our training data."
   ]
  },
  {
   "cell_type": "markdown",
   "id": "6a5a22f6-432c-4021-a7b2-eaa0a5058f8f",
   "metadata": {},
   "source": [
    "### Neuron with Sigmoid activation\n",
    "The function implemented by a neuron/unit with a sigmoid activation is the same as logistic  regression:\n",
    "$$ f_{\\mathbf{w},b}(x^{(i)}) = g(\\mathbf{w}x^{(i)} + b) \\tag{2}$$\n",
    "where $$g(x) = sigmoid(x)$$ \n",
    "\n",
    "Let's set $w$ and $b$ to some known values and check the model.\n"
   ]
  },
  {
   "cell_type": "code",
   "execution_count": 50,
   "id": "64a909ca-738c-4459-8763-4375c73b7b42",
   "metadata": {},
   "outputs": [],
   "source": [
    "#DATASET\n",
    "X_Train = np.array([0., 1, 2, 3, 4, 5], dtype=np.float32).reshape(-1,1) #2D Matrix\n",
    "Y_Train = np.array([0, 0, 0, 1, 1, 1], dtype=np.float32).reshape(-1,1)"
   ]
  },
  {
   "cell_type": "markdown",
   "id": "41a7c28b-1198-4dc2-b253-0a321d60a355",
   "metadata": {},
   "source": [
    "#### Logistic Neuron\n",
    "We can implement a 'logistic neuron' by adding a sigmoid activation. This section will create a Tensorflow Model that contains our logistic layer to demonstrate an alternate method of creating models. "
   ]
  },
  {
   "cell_type": "code",
   "execution_count": 51,
   "id": "776fd335-b953-4f56-9e73-9109a27f7f95",
   "metadata": {},
   "outputs": [],
   "source": [
    "model = Sequential(\n",
    "    [\n",
    "        tf.keras.layers.Dense(1, input_dim=1, activation= 'sigmoid', name='L1')\n",
    "    ]\n",
    ")"
   ]
  },
  {
   "cell_type": "code",
   "execution_count": 52,
   "id": "3bb572b1-914e-49b5-9444-6d7e6808e1b8",
   "metadata": {},
   "outputs": [
    {
     "data": {
      "text/html": [
       "<pre style=\"white-space:pre;overflow-x:auto;line-height:normal;font-family:Menlo,'DejaVu Sans Mono',consolas,'Courier New',monospace\"><span style=\"font-weight: bold\">Model: \"sequential_2\"</span>\n",
       "</pre>\n"
      ],
      "text/plain": [
       "\u001b[1mModel: \"sequential_2\"\u001b[0m\n"
      ]
     },
     "metadata": {},
     "output_type": "display_data"
    },
    {
     "data": {
      "text/html": [
       "<pre style=\"white-space:pre;overflow-x:auto;line-height:normal;font-family:Menlo,'DejaVu Sans Mono',consolas,'Courier New',monospace\">┏━━━━━━━━━━━━━━━━━━━━━━━━━━━━━━━━━━━━━━┳━━━━━━━━━━━━━━━━━━━━━━━━━━━━━┳━━━━━━━━━━━━━━━━━┓\n",
       "┃<span style=\"font-weight: bold\"> Layer (type)                         </span>┃<span style=\"font-weight: bold\"> Output Shape                </span>┃<span style=\"font-weight: bold\">         Param # </span>┃\n",
       "┡━━━━━━━━━━━━━━━━━━━━━━━━━━━━━━━━━━━━━━╇━━━━━━━━━━━━━━━━━━━━━━━━━━━━━╇━━━━━━━━━━━━━━━━━┩\n",
       "│ L1 (<span style=\"color: #0087ff; text-decoration-color: #0087ff\">Dense</span>)                           │ (<span style=\"color: #00d7ff; text-decoration-color: #00d7ff\">None</span>, <span style=\"color: #00af00; text-decoration-color: #00af00\">1</span>)                   │               <span style=\"color: #00af00; text-decoration-color: #00af00\">2</span> │\n",
       "└──────────────────────────────────────┴─────────────────────────────┴─────────────────┘\n",
       "</pre>\n"
      ],
      "text/plain": [
       "┏━━━━━━━━━━━━━━━━━━━━━━━━━━━━━━━━━━━━━━┳━━━━━━━━━━━━━━━━━━━━━━━━━━━━━┳━━━━━━━━━━━━━━━━━┓\n",
       "┃\u001b[1m \u001b[0m\u001b[1mLayer (type)                        \u001b[0m\u001b[1m \u001b[0m┃\u001b[1m \u001b[0m\u001b[1mOutput Shape               \u001b[0m\u001b[1m \u001b[0m┃\u001b[1m \u001b[0m\u001b[1m        Param #\u001b[0m\u001b[1m \u001b[0m┃\n",
       "┡━━━━━━━━━━━━━━━━━━━━━━━━━━━━━━━━━━━━━━╇━━━━━━━━━━━━━━━━━━━━━━━━━━━━━╇━━━━━━━━━━━━━━━━━┩\n",
       "│ L1 (\u001b[38;5;33mDense\u001b[0m)                           │ (\u001b[38;5;45mNone\u001b[0m, \u001b[38;5;34m1\u001b[0m)                   │               \u001b[38;5;34m2\u001b[0m │\n",
       "└──────────────────────────────────────┴─────────────────────────────┴─────────────────┘\n"
      ]
     },
     "metadata": {},
     "output_type": "display_data"
    },
    {
     "data": {
      "text/html": [
       "<pre style=\"white-space:pre;overflow-x:auto;line-height:normal;font-family:Menlo,'DejaVu Sans Mono',consolas,'Courier New',monospace\"><span style=\"font-weight: bold\"> Total params: </span><span style=\"color: #00af00; text-decoration-color: #00af00\">2</span> (8.00 B)\n",
       "</pre>\n"
      ],
      "text/plain": [
       "\u001b[1m Total params: \u001b[0m\u001b[38;5;34m2\u001b[0m (8.00 B)\n"
      ]
     },
     "metadata": {},
     "output_type": "display_data"
    },
    {
     "data": {
      "text/html": [
       "<pre style=\"white-space:pre;overflow-x:auto;line-height:normal;font-family:Menlo,'DejaVu Sans Mono',consolas,'Courier New',monospace\"><span style=\"font-weight: bold\"> Trainable params: </span><span style=\"color: #00af00; text-decoration-color: #00af00\">2</span> (8.00 B)\n",
       "</pre>\n"
      ],
      "text/plain": [
       "\u001b[1m Trainable params: \u001b[0m\u001b[38;5;34m2\u001b[0m (8.00 B)\n"
      ]
     },
     "metadata": {},
     "output_type": "display_data"
    },
    {
     "data": {
      "text/html": [
       "<pre style=\"white-space:pre;overflow-x:auto;line-height:normal;font-family:Menlo,'DejaVu Sans Mono',consolas,'Courier New',monospace\"><span style=\"font-weight: bold\"> Non-trainable params: </span><span style=\"color: #00af00; text-decoration-color: #00af00\">0</span> (0.00 B)\n",
       "</pre>\n"
      ],
      "text/plain": [
       "\u001b[1m Non-trainable params: \u001b[0m\u001b[38;5;34m0\u001b[0m (0.00 B)\n"
      ]
     },
     "metadata": {},
     "output_type": "display_data"
    }
   ],
   "source": [
    "model.summary()"
   ]
  },
  {
   "cell_type": "code",
   "execution_count": 53,
   "id": "cccf9bad-2cf2-4c19-9507-513f59e5018e",
   "metadata": {},
   "outputs": [
    {
     "name": "stdout",
     "output_type": "stream",
     "text": [
      "[[-0.8445857]] [0.]\n"
     ]
    }
   ],
   "source": [
    "logistic_layer = model.get_layer('L1') #Modelden L1 isimli katmanı incelemek için çekip değişkene atıyoruz\n",
    "w,b = logistic_layer.get_weights()\n",
    "print(w,b)"
   ]
  },
  {
   "cell_type": "code",
   "execution_count": 54,
   "id": "966e440d-9513-4209-9b2f-1e4bf3ddc6ea",
   "metadata": {},
   "outputs": [
    {
     "name": "stdout",
     "output_type": "stream",
     "text": [
      "[array([[2.]], dtype=float32), array([-4.5], dtype=float32)]\n"
     ]
    }
   ],
   "source": [
    "#Let's set the weight and bias to some known values.\n",
    "set_w = np.array([[2]])\n",
    "set_b = np.array([-4.5])\n",
    "logistic_layer.set_weights([set_w, set_b])\n",
    "print(logistic_layer.get_weights())"
   ]
  },
  {
   "cell_type": "code",
   "execution_count": 55,
   "id": "88ed5bd3-d475-49dd-90f8-886e0327e6d9",
   "metadata": {},
   "outputs": [],
   "source": [
    "def sigmoidnp(z):\n",
    "    g = 1/(1 + np.exp(-z))\n",
    "    return g"
   ]
  },
  {
   "cell_type": "code",
   "execution_count": 56,
   "id": "db8c0b26-57d4-4660-ba92-b5cb624e8dbc",
   "metadata": {},
   "outputs": [
    {
     "name": "stdout",
     "output_type": "stream",
     "text": [
      "\u001b[1m1/1\u001b[0m \u001b[32m━━━━━━━━━━━━━━━━━━━━\u001b[0m\u001b[37m\u001b[0m \u001b[1m0s\u001b[0m 57ms/step\n",
      "a1= [[0.01098694]]\n",
      "alog= [[0.01098694]]\n"
     ]
    }
   ],
   "source": [
    "# Comparing TensorFlow model prediction with manual NumPy computation\n",
    "a1 = model.predict(X_Train[0].reshape(1,1))\n",
    "print(\"a1=\" , a1)\n",
    "alog = sigmoidnp(np.dot(set_w, X_Train[0].reshape(1,1)) + set_b)\n",
    "print(\"alog=\", alog)"
   ]
  },
  {
   "cell_type": "markdown",
   "id": "9d5ab91b-e6da-4998-ab39-f8afe60d72cd",
   "metadata": {},
   "source": [
    "They produce the same values! "
   ]
  }
 ],
 "metadata": {
  "kernelspec": {
   "display_name": "Python 3 (ipykernel)",
   "language": "python",
   "name": "python3"
  },
  "language_info": {
   "codemirror_mode": {
    "name": "ipython",
    "version": 3
   },
   "file_extension": ".py",
   "mimetype": "text/x-python",
   "name": "python",
   "nbconvert_exporter": "python",
   "pygments_lexer": "ipython3",
   "version": "3.12.9"
  }
 },
 "nbformat": 4,
 "nbformat_minor": 5
}
