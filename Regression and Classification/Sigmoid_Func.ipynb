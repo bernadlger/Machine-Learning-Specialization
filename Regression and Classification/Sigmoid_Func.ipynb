{
 "cells": [
  {
   "cell_type": "code",
   "execution_count": 7,
   "id": "31e2909a-4e4c-4e23-ad11-51e67aebe3ce",
   "metadata": {},
   "outputs": [],
   "source": [
    "import numpy as np\n",
    "import math"
   ]
  },
  {
   "cell_type": "markdown",
   "id": "d5b612f7-4df6-4704-81da-e995617c5b42",
   "metadata": {},
   "source": [
    "In this lab, we will \n",
    "- explore the sigmoid function (also known as the logistic function)"
   ]
  },
  {
   "cell_type": "markdown",
   "id": "51252409-44d5-492b-9654-cea9740421a4",
   "metadata": {},
   "source": [
    "## Sigmoid or Logistic Function\n",
    "<img align=\"left\" src=\"./images/C1_W3_LogisticRegression_left.png\" style=\"width:300px; padding: 10px;\">  For a classification task, we can start by using our linear regression model, $f_{\\mathbf{w},b}(\\mathbf{x}^{(i)}) = \\mathbf{w} \\cdot  \\mathbf{x}^{(i)} + b$, to predict $y$ given $x$. \n",
    "- However, we would like the predictions of our classification model to be between 0 and 1 since our output variable $y$ is either 0 or 1. \n",
    "- This can be accomplished by using a \"sigmoid function\" which maps all input values to values between 0 and 1. \n",
    "\n",
    "\n",
    "\n",
    "\n",
    "## Formula for Sigmoid function\n",
    "\n",
    "The formula for a sigmoid function is as follows:\n",
    "\n",
    "$g(z) = \\frac{1}{1+e^{-z}}\\tag{1}$\n",
    "\n",
    "In the case of logistic regression, z (the input to the sigmoid function), is the output of a linear regression model. \n"
   ]
  },
  {
   "cell_type": "code",
   "execution_count": 8,
   "id": "95301822-4360-45fb-9304-eb7c17aa5312",
   "metadata": {},
   "outputs": [],
   "source": [
    "def sigmoid(z):\n",
    "    g = 1/(1 + np.exp(-z))\n",
    "    return g"
   ]
  },
  {
   "cell_type": "code",
   "execution_count": 9,
   "id": "de9a2bf6-3ea4-468c-a702-e24006c521d7",
   "metadata": {},
   "outputs": [
    {
     "name": "stdout",
     "output_type": "stream",
     "text": [
      "Input (z),  Output (sigmoid(z)) \n",
      "[[-5.          0.00669285]\n",
      " [-4.          0.01798621]\n",
      " [-3.          0.04742587]\n",
      " [-2.          0.11920292]\n",
      " [-1.          0.26894142]\n",
      " [ 0.          0.5       ]\n",
      " [ 1.          0.73105858]\n",
      " [ 2.          0.88079708]\n",
      " [ 3.          0.95257413]\n",
      " [ 4.          0.98201379]\n",
      " [ 5.          0.99330715]]\n"
     ]
    }
   ],
   "source": [
    "# Generate an array of evenly spaced values between -10 and 10\n",
    "z_temp = np.arange(-5,6)\n",
    "# Use the function implemented above to get the sigmoid values\n",
    "y = sigmoid(z_temp)\n",
    "# Code for pretty printing the two arrays next to each other\n",
    "print ( \"Input (z),  Output (sigmoid(z)) \")\n",
    "print(np.c_[z_temp, y]) # Burada np.c_, NumPy'nin dizileri sütun bazında birleştirmek için kullandığı bir araçtır."
   ]
  },
  {
   "cell_type": "markdown",
   "id": "c5c525ae-1c80-4242-8e1a-0267d7eb8326",
   "metadata": {},
   "source": [
    "The values in the left column are `z`, and the values in the right column are `sigmoid(z)`. As we can see, the input values to the sigmoid range from -5 to 5, and the output values range from 0 to 1."
   ]
  },
  {
   "cell_type": "markdown",
   "id": "7349740e-7aa9-48da-8773-14d050de49b0",
   "metadata": {},
   "source": [
    "## Logistic Regression\n",
    "<img align=\"left\" src=\"./images/C1_W3_LogisticRegression_right.png\" style=\"width:300px; padding: 10px;\">\n"
   ]
  },
  {
   "cell_type": "markdown",
   "id": "57c677e1-b1c4-4ca6-8514-139d1cf2faf3",
   "metadata": {},
   "source": [
    "We have explored the use of the sigmoid function in logistic regression"
   ]
  },
  {
   "cell_type": "code",
   "execution_count": null,
   "id": "6583e09c-0ac0-4d57-871f-519b3f535709",
   "metadata": {},
   "outputs": [],
   "source": []
  }
 ],
 "metadata": {
  "kernelspec": {
   "display_name": "Python 3 (ipykernel)",
   "language": "python",
   "name": "python3"
  },
  "language_info": {
   "codemirror_mode": {
    "name": "ipython",
    "version": 3
   },
   "file_extension": ".py",
   "mimetype": "text/x-python",
   "name": "python",
   "nbconvert_exporter": "python",
   "pygments_lexer": "ipython3",
   "version": "3.12.9"
  }
 },
 "nbformat": 4,
 "nbformat_minor": 5
}
