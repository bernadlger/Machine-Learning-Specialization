{
 "cells": [
  {
   "cell_type": "markdown",
   "id": "d7e958a1-b9ad-4c0d-9a56-57c313fe9a59",
   "metadata": {},
   "source": [
    "## Goals\n",
    "In this lab, we will:\n",
    "- update gradient descent for logistic regression."
   ]
  },
  {
   "cell_type": "code",
   "execution_count": 109,
   "id": "e6ac74f1-28aa-4cc5-ba7a-d72ca4ab62f5",
   "metadata": {},
   "outputs": [],
   "source": [
    "import numpy as np\n",
    "import math, copy"
   ]
  },
  {
   "cell_type": "code",
   "execution_count": 110,
   "id": "7066c8f2-ec4b-45a5-8af7-9c1ba6b1cb47",
   "metadata": {},
   "outputs": [],
   "source": [
    "X_train = np.array([[0.5, 1.5], [1,1], [1.5, 0.5], [3, 0.5], [2, 2], [1, 2.5]])\n",
    "y_train = np.array([0, 0, 0, 1, 1, 1])"
   ]
  },
  {
   "cell_type": "markdown",
   "id": "fb39516c-2446-47c5-8e75-813a048f99b6",
   "metadata": {},
   "source": [
    "## Logistic Gradient Descent\n",
    "<img src=\"https://raw.githubusercontent.com/bernadlger/Machine-Learning-Specialization/main/Regression%20and%20Classification/images/C1_W3_Logistic_gradient_descent.png\" style=\"width:400px; padding:10px;\" align=\"right\">\n",
    "\n",
    "Recall the gradient descent algorithm utilizes the gradient calculation:\n",
    "$$\\begin{align*}\n",
    "&\\text{repeat until convergence:} \\; \\lbrace \\\\\n",
    "&  \\; \\; \\;w_j = w_j -  \\alpha \\frac{\\partial J(\\mathbf{w},b)}{\\partial w_j} \\tag{1}  \\; & \\text{for j := 0..n-1} \\\\ \n",
    "&  \\; \\; \\;  \\; \\;b = b -  \\alpha \\frac{\\partial J(\\mathbf{w},b)}{\\partial b} \\\\\n",
    "&\\rbrace\n",
    "\\end{align*}$$\n",
    "\n",
    "Where each iteration performs simultaneous updates on $w_j$ for all $j$, where\n",
    "$$\\begin{align*}\n",
    "\\frac{\\partial J(\\mathbf{w},b)}{\\partial w_j}  &= \\frac{1}{m} \\sum\\limits_{i = 0}^{m-1} (f_{\\mathbf{w},b}(\\mathbf{x}^{(i)}) - y^{(i)})x_{j}^{(i)} \\tag{2} \\\\\n",
    "\\frac{\\partial J(\\mathbf{w},b)}{\\partial b}  &= \\frac{1}{m} \\sum\\limits_{i = 0}^{m-1} (f_{\\mathbf{w},b}(\\mathbf{x}^{(i)}) - y^{(i)}) \\tag{3} \n",
    "\\end{align*}$$\n",
    "\n",
    "* m is the number of training examples in the data set      \n",
    "* $f_{\\mathbf{w},b}(x^{(i)})$ is the model's prediction, while $y^{(i)}$ is the target\n",
    "* For a logistic regression model  \n",
    "    $z = \\mathbf{w} \\cdot \\mathbf{x} + b$  \n",
    "    $f_{\\mathbf{w},b}(x) = g(z)$  \n",
    "    where $g(z)$ is the sigmoid function:  \n",
    "    $g(z) = \\frac{1}{1+e^{-z}}$   "
   ]
  },
  {
   "cell_type": "code",
   "execution_count": 111,
   "id": "06538adf-9e01-4db6-8e89-826004a2078b",
   "metadata": {},
   "outputs": [],
   "source": [
    "def sigmoid(z):\n",
    "    g = 1/(1+ np.exp(-z))\n",
    "    return g"
   ]
  },
  {
   "cell_type": "code",
   "execution_count": 112,
   "id": "039d21f8-f5b9-4833-8362-058158eefea0",
   "metadata": {},
   "outputs": [],
   "source": [
    "def compute_cost_logistic(X,y,w,b):\n",
    "    m = X.shape[0] \n",
    "    cost= 0.0\n",
    "    for i in range(m):\n",
    "        z_i = np.dot(X[i],w) + b \n",
    "        fw_b_i = sigmoid(z_i)\n",
    "        cost+= -y[i]*np.log(fw_b_i) - (1-y[i])*np.log(1-fw_b_i)\n",
    "    cost = cost/m\n",
    "    return cost"
   ]
  },
  {
   "cell_type": "code",
   "execution_count": 113,
   "id": "e3d300fe-0396-46b5-9099-081047252f2d",
   "metadata": {},
   "outputs": [],
   "source": [
    "def compute_gradient_logistic(X,y,w,b):\n",
    "    m,n = X.shape\n",
    "    dj_dw= np.zeros((n,)) \n",
    "    dj_db = 0.\n",
    "\n",
    "    for i in range (m):\n",
    "        z_i = np.dot(X[i],w) + b \n",
    "        fw_b_i = sigmoid(z_i)\n",
    "        err_i = fw_b_i - y[i]\n",
    "        for j in range (n):\n",
    "            dj_dw[j] = dj_dw[j] + err_i * X[i,j]\n",
    "        dj_db = dj_db + err_i\n",
    "    dj_dw = dj_dw/m\n",
    "    dj_db = dj_db/m\n",
    "\n",
    "    return dj_dw, dj_db"
   ]
  },
  {
   "cell_type": "code",
   "execution_count": 114,
   "id": "78b0c3ea-abde-4015-9aac-6139b36f5156",
   "metadata": {},
   "outputs": [],
   "source": [
    "def gradient_descent(X,y,w_in,b_in,alpha,num_iters):\n",
    "\n",
    "    J_History= []\n",
    "    w = copy.deepcopy(w_in)\n",
    "    b = b_in\n",
    "\n",
    "    for i in range(num_iters):\n",
    "        dj_dw , dj_db = compute_gradient_logistic(X,y,w,b)\n",
    "\n",
    "        w = w - alpha*dj_dw\n",
    "        b = b - alpha*dj_db\n",
    "\n",
    "        if i < 100000: # prevent resource exhaustion\n",
    "            J_History.append(compute_cost_logistic(X,y,w,b))\n",
    "             # Print cost every at intervals 10 times or as many iterations if < 10\n",
    "        if i% math.ceil(num_iters / 10) == 0:\n",
    "            print(f\"Iteration {i:4d}: Cost {J_History[-1]} \")\n",
    "    \n",
    "    return w, b, J_History"
   ]
  },
  {
   "cell_type": "markdown",
   "id": "4928c848-aa1d-4902-be44-fec168de514f",
   "metadata": {},
   "source": [
    "Let's run gradient descent on our data set."
   ]
  },
  {
   "cell_type": "code",
   "execution_count": 115,
   "id": "f665ee3b-c019-4216-966d-61fc9d693918",
   "metadata": {},
   "outputs": [
    {
     "name": "stdout",
     "output_type": "stream",
     "text": [
      "Iteration    0: Cost 0.684610468560574 \n",
      "Iteration 1000: Cost 0.1590977666870456 \n",
      "Iteration 2000: Cost 0.08460064176930081 \n",
      "Iteration 3000: Cost 0.05705327279402531 \n",
      "Iteration 4000: Cost 0.042907594216820076 \n",
      "Iteration 5000: Cost 0.034338477298845684 \n",
      "Iteration 6000: Cost 0.028603798022120097 \n",
      "Iteration 7000: Cost 0.024501569608793 \n",
      "Iteration 8000: Cost 0.02142370332569295 \n",
      "Iteration 9000: Cost 0.019030137124109114 \n",
      "\n",
      "updated parameters: w:[5.28123029 5.07815608] b:-14.222409982019837\n"
     ]
    }
   ],
   "source": [
    "w_tmp = np.zeros_like(X_train[0])\n",
    "b_tmp = 0.\n",
    "alph = 0.1\n",
    "iters = 10000\n",
    "\n",
    "w_out, b_out, _ = gradient_descent(X_train,y_train,w_tmp,b_tmp,alph,iters)\n",
    "print(f\"\\nupdated parameters: w:{w_out} b:{b_out}\")"
   ]
  },
  {
   "cell_type": "code",
   "execution_count": null,
   "id": "467c7667-0ef0-420c-80e0-aeb99894033b",
   "metadata": {},
   "outputs": [],
   "source": []
  }
 ],
 "metadata": {
  "kernelspec": {
   "display_name": "Python 3 (ipykernel)",
   "language": "python",
   "name": "python3"
  },
  "language_info": {
   "codemirror_mode": {
    "name": "ipython",
    "version": 3
   },
   "file_extension": ".py",
   "mimetype": "text/x-python",
   "name": "python",
   "nbconvert_exporter": "python",
   "pygments_lexer": "ipython3",
   "version": "3.12.9"
  }
 },
 "nbformat": 4,
 "nbformat_minor": 5
}
