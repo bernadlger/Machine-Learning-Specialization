{
 "cells": [
  {
   "cell_type": "markdown",
   "id": "87f51da0-5bee-4b36-a083-ac32f2a254e4",
   "metadata": {},
   "source": [
    "\n",
    "## Goals\n",
    "In this lab, we will:\n",
    "- examine the implementation the cost function for logistic regression."
   ]
  },
  {
   "cell_type": "code",
   "execution_count": 31,
   "id": "6da2d4fd-c239-41a6-a8dd-de86efd7a47b",
   "metadata": {},
   "outputs": [],
   "source": [
    "import numpy as np\n",
    "import math"
   ]
  },
  {
   "cell_type": "code",
   "execution_count": 32,
   "id": "277a6ea1-bb01-4efd-8373-b3d7f6c0108a",
   "metadata": {},
   "outputs": [],
   "source": [
    "X_Train= np.array([[0.5, 1.5], [1,1], [1.5, 0.5], [3, 0.5], [2, 2], [1, 2.5]])\n",
    "y_Train= np.array([0, 0, 0, 1, 1, 1])"
   ]
  },
  {
   "cell_type": "markdown",
   "id": "67e3b666-0869-48a9-b9c7-ea09e093f276",
   "metadata": {},
   "source": [
    "## Logistic Cost function\n",
    "\n",
    "Loss is defined to apply to one example. Here we combine the losses to form the **cost**, which includes all the examples.\n",
    "\n",
    "\n",
    "Recall that for logistic regression, the cost function is of the form \n",
    "\n",
    "$$ J(\\mathbf{w},b) = \\frac{1}{m} \\sum_{i=0}^{m-1} \\left[ loss(f_{\\mathbf{w},b}(\\mathbf{x}^{(i)}), y^{(i)}) \\right] \\tag{1}$$\n",
    "\n",
    "where\n",
    "* $loss(f_{\\mathbf{w},b}(\\mathbf{x}^{(i)}), y^{(i)})$ is the cost for a single data point, which is:\n",
    "\n",
    "    $$loss(f_{\\mathbf{w},b}(\\mathbf{x}^{(i)}), y^{(i)}) = -y^{(i)} \\log\\left(f_{\\mathbf{w},b}\\left( \\mathbf{x}^{(i)} \\right) \\right) - \\left( 1 - y^{(i)}\\right) \\log \\left( 1 - f_{\\mathbf{w},b}\\left( \\mathbf{x}^{(i)} \\right) \\right) \\tag{2}$$\n",
    "  *  where m is the number of training examples in the data set and:\n",
    "$$\n",
    "\\begin{align}\n",
    "  f_{\\mathbf{w},b}(\\mathbf{x^{(i)}}) &= g(z^{(i)})\\tag{3} \\\\\n",
    "  z^{(i)} &= \\mathbf{w} \\cdot \\mathbf{x}^{(i)}+ b\\tag{4} \\\\\n",
    "  g(z^{(i)}) &= \\frac{1}{1+e^{-z^{(i)}}}\\tag{5} \n",
    "\\end{align}\n",
    "$$\n",
    " \n",
    "    "
   ]
  },
  {
   "cell_type": "code",
   "execution_count": 33,
   "id": "b2a1e638-93be-4ebc-a5b6-c36fc6b7e231",
   "metadata": {},
   "outputs": [],
   "source": [
    "def sigmoid(z):\n",
    "    g = 1/(1+ np.exp(-z))\n",
    "    return g"
   ]
  },
  {
   "cell_type": "code",
   "execution_count": 34,
   "id": "a99bb7c7-f40e-403e-985b-d6209752adce",
   "metadata": {},
   "outputs": [],
   "source": [
    "def compute_cost_logistic(X,y,w,b):\n",
    "    m = X.shape[0] #örnek sayısını aldık\n",
    "    cost= 0.0\n",
    "    for i in range(m):\n",
    "        z_i = np.dot(X[i],w) + b \n",
    "        fw_b_i = sigmoid(z_i)\n",
    "        cost+= -y[i]*np.log(fw_b_i) - (1-y[i])*np.log(1-fw_b_i)\n",
    "    cost = cost/m\n",
    "    return cost"
   ]
  },
  {
   "cell_type": "code",
   "execution_count": 35,
   "id": "5a0b3e85-0b78-4cb4-81a9-8797807da88c",
   "metadata": {},
   "outputs": [
    {
     "name": "stdout",
     "output_type": "stream",
     "text": [
      "Cost = 0.36686678640551745\n"
     ]
    }
   ],
   "source": [
    "w_tmp = np.array([1,1]) # For demonstration, w and b loaded with some selected values that are near the optimal\n",
    "b_tmp = -3 \n",
    "print(f\"Cost = {compute_cost_logistic(X_Train, Y_Train, w_tmp, b_tmp)}\")"
   ]
  },
  {
   "cell_type": "markdown",
   "id": "bc62f029-e6b4-4f83-ab28-c8844412bc14",
   "metadata": {},
   "source": [
    "**Expected output**: 0.3668667864055175"
   ]
  },
  {
   "cell_type": "markdown",
   "id": "ad774021-22f9-4d0f-8c26-dd8231b4a27d",
   "metadata": {},
   "source": [
    "* Note: In the future, we will also see how to obtain the correct w0, w1, and b parameters by training the model (Using gradient descent for logistic regression)."
   ]
  }
 ],
 "metadata": {
  "kernelspec": {
   "display_name": "Python 3 (ipykernel)",
   "language": "python",
   "name": "python3"
  },
  "language_info": {
   "codemirror_mode": {
    "name": "ipython",
    "version": 3
   },
   "file_extension": ".py",
   "mimetype": "text/x-python",
   "name": "python",
   "nbconvert_exporter": "python",
   "pygments_lexer": "ipython3",
   "version": "3.12.9"
  }
 },
 "nbformat": 4,
 "nbformat_minor": 5
}
