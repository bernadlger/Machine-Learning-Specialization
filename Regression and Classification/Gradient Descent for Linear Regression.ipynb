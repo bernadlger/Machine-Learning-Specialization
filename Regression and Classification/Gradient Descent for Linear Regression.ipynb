{
 "cells": [
  {
   "cell_type": "markdown",
   "id": "9f03deae-fd97-4e55-b0e4-ff81b740136e",
   "metadata": {},
   "source": [
    "Goals: Automate the process of optimizing w and b using gradient descent."
   ]
  },
  {
   "cell_type": "code",
   "execution_count": 11,
   "id": "91aeefca-434e-4173-815b-c5d11d69bf47",
   "metadata": {},
   "outputs": [],
   "source": [
    "import math\n",
    "import numpy as np\n",
    "import matplotlib.pyplot as plt\n"
   ]
  },
  {
   "cell_type": "code",
   "execution_count": 12,
   "id": "75c98415-a725-4d48-81e8-1ee822f40c6e",
   "metadata": {},
   "outputs": [],
   "source": [
    "# Load our data set\n",
    "x_train= np.array([1.0, 2.0]) #features\n",
    "y_train= np.array([300.0, 500.0]) #target value"
   ]
  },
  {
   "cell_type": "code",
   "execution_count": 13,
   "id": "b81e7d12-3f3b-423f-ab02-e9ed5d14fbad",
   "metadata": {},
   "outputs": [],
   "source": [
    "# Function to calculate the cost value\n",
    "def compute_cost(x, y, w, b):\n",
    "    m = x.shape[0]\n",
    "    cost = 0\n",
    "\n",
    "    for i in range(m):\n",
    "        f_wb = w*x[i] + b\n",
    "        cost = cost + (f_wb - y[i])**2\n",
    "    total_cost = 1/(2*m) * cost\n",
    "\n",
    "    return total_cost\n",
    "    "
   ]
  },
  {
   "cell_type": "markdown",
   "id": "0612d3d7-0689-40d2-9fef-172910dfa4cb",
   "metadata": {},
   "source": [
    "We'll calculate the partial derivatives of the cost function with respect to w and b:"
   ]
  },
  {
   "cell_type": "code",
   "execution_count": 19,
   "id": "8703093a-4080-4c58-8983-7245a20593ac",
   "metadata": {},
   "outputs": [],
   "source": [
    "def compute_gradient ( x, y, w, b):\n",
    "\n",
    "    m = x.shape[0]\n",
    "    dj_dw = 0 #J'nin w'ya göre kısmi türevi\n",
    "    dj_db = 0 #J'nin b'ye göre kısmi türevi \n",
    "\n",
    "    for i in range (m):\n",
    "        f_wb = w*x[i] + b\n",
    "        dj_dw_i = ( f_wb - y[i] ) * x[i]\n",
    "        dj_db_i = ( f_wb - y[i] )\n",
    "        dj_dw += dj_dw_i\n",
    "        dj_db += dj_db_i\n",
    "    dj_dw = dj_dw/m\n",
    "    dj_db = dj_db/m\n",
    "\n",
    "    return dj_dw , dj_db"
   ]
  },
  {
   "cell_type": "markdown",
   "id": "09846834-9580-4f54-9123-80f81c1ec47b",
   "metadata": {},
   "source": [
    "Now that gradients can be computed, The details of the implementation:\n",
    "    \n",
    "    Args:\n",
    "      x (ndarray (m,))  : Data, m examples \n",
    "      y (ndarray (m,))  : target values\n",
    "      w_in,b_in (scalar): initial values of model parameters  \n",
    "      alpha (float):     Learning rate\n",
    "      num_iters (int):   number of iterations to run gradient descent\n",
    "      cost_function:     function to call to produce cost\n",
    "      gradient_function: function to call to produce gradient\n",
    "      \n",
    "    Returns:\n",
    "      w (scalar): Updated value of parameter after running gradient descent\n",
    "      b (scalar): Updated value of parameter after running gradient descent\n",
    "      J_history (List): History of cost values\n",
    "      p_history (list): History of parameters [w,b] "
   ]
  },
  {
   "cell_type": "code",
   "execution_count": 26,
   "id": "f4f192a1-86b1-4d1e-b5a8-9e7538ef3711",
   "metadata": {},
   "outputs": [],
   "source": [
    "def gradient_descent ( x, y, w_in, b_in, alpha, num_iters, cost_function, gradient_function ):\n",
    "\n",
    "    J_history = []\n",
    "    p_history = []\n",
    "    b = b_in\n",
    "    w = w_in\n",
    "\n",
    "    for i in range (num_iters):\n",
    "         dj_dw , dj_db = gradient_function(x, y, w, b) #Calculate the gradient and update the parameters using gradient_function\n",
    "\n",
    "         b = b - alpha*dj_db\n",
    "         w = w - alpha*dj_dw #We use \"gradient descent algorithm equation\" to update parameters\n",
    "         if(i<100000): #prevent resource exhaustion\n",
    "            J_history.append ( cost_function ( x, y, w, b))\n",
    "            p_history.append ([w, b])\n",
    "         if i % math.ceil(num_iters/10) == 0: #print cost \n",
    "            print(f\"Iteration {i:4}: Cost {J_history[-1]: 0.2e}\",\n",
    "                  f\"dj_dw: {dj_dw: 0.3e}, {dj_db:0.3e}\",\n",
    "                  f\" w:{w: 0.3e}, b:{b:0.5e}\")\n",
    "    return w, b, J_history, p_history         \n"
   ]
  },
  {
   "cell_type": "code",
   "execution_count": 27,
   "id": "872c58eb-a7e6-4eba-88b7-6f2e604d6d68",
   "metadata": {},
   "outputs": [
    {
     "name": "stdout",
     "output_type": "stream",
     "text": [
      "Iteration    0: Cost  7.93e+04 dj_dw: -6.500e+02, -4.000e+02  w: 6.500e+00, b:4.00000e+00\n",
      "Iteration 1000: Cost  3.41e+00 dj_dw: -3.712e-01, 6.007e-01  w: 1.949e+02, b:1.08228e+02\n",
      "Iteration 2000: Cost  7.93e-01 dj_dw: -1.789e-01, 2.895e-01  w: 1.975e+02, b:1.03966e+02\n",
      "Iteration 3000: Cost  1.84e-01 dj_dw: -8.625e-02, 1.396e-01  w: 1.988e+02, b:1.01912e+02\n",
      "Iteration 4000: Cost  4.28e-02 dj_dw: -4.158e-02, 6.727e-02  w: 1.994e+02, b:1.00922e+02\n",
      "Iteration 5000: Cost  9.95e-03 dj_dw: -2.004e-02, 3.243e-02  w: 1.997e+02, b:1.00444e+02\n",
      "Iteration 6000: Cost  2.31e-03 dj_dw: -9.660e-03, 1.563e-02  w: 1.999e+02, b:1.00214e+02\n",
      "Iteration 7000: Cost  5.37e-04 dj_dw: -4.657e-03, 7.535e-03  w: 1.999e+02, b:1.00103e+02\n",
      "Iteration 8000: Cost  1.25e-04 dj_dw: -2.245e-03, 3.632e-03  w: 2.000e+02, b:1.00050e+02\n",
      "Iteration 9000: Cost  2.90e-05 dj_dw: -1.082e-03, 1.751e-03  w: 2.000e+02, b:1.00024e+02\n",
      "(w,b) found by gradient descent : (199.9929, 100.0116)\n"
     ]
    }
   ],
   "source": [
    "#initialize parameters\n",
    "w_init= 0\n",
    "b_init= 0\n",
    "#some gradient descent settings\n",
    "iterations= 10000\n",
    "tmp_alpha= 1.0e-2\n",
    "#run gradient_descent \n",
    "w_final, b_final, J_hist, p_hist = gradient_descent(x_train, y_train, w_init, b_init, tmp_alpha, iterations, compute_cost, compute_gradient)\n",
    "print(f\"(w,b) found by gradient descent : ({w_final:8.4f}, {b_final:8.4f})\")"
   ]
  },
  {
   "cell_type": "markdown",
   "id": "be6d15cd-30e5-414a-8196-fc8f07e01e95",
   "metadata": {},
   "source": [
    "Now that we have discovered the optimal values for the parameters w and b, we can now use the model to predict housing values \n",
    "based on our learned parameters"
   ]
  },
  {
   "cell_type": "code",
   "execution_count": 29,
   "id": "2f69e2ec-1e11-4433-97e0-a2d047e96e84",
   "metadata": {},
   "outputs": [
    {
     "name": "stdout",
     "output_type": "stream",
     "text": [
      "1000 sqft house prediction 300.0 Thousand Dollars\n",
      "1700 sqft house prediction 440.0 Thousand Dollars\n",
      "2000 sqft house prediction 500.0 Thousand Dollars\n"
     ]
    }
   ],
   "source": [
    "print(f\"1000 sqft house prediction {w_final*1.0 + b_final:0.1f} Thousand Dollars\") # f(x)= w*x +b \n",
    "print(f\"1700 sqft house prediction {w_final*1.7 + b_final:0.1f} Thousand Dollars\")\n",
    "print(f\"2000 sqft house prediction {w_final*2.0 + b_final:0.1f} Thousand Dollars\")"
   ]
  },
  {
   "cell_type": "markdown",
   "id": "80d3552d-85ab-4442-9be3-0f9c4ae093c8",
   "metadata": {},
   "source": [
    "In this section, we delved into the details of gradient descent for a singel variable!"
   ]
  },
  {
   "cell_type": "code",
   "execution_count": null,
   "id": "049fe97e-9ef9-43d5-be70-1c3417402005",
   "metadata": {},
   "outputs": [],
   "source": []
  }
 ],
 "metadata": {
  "kernelspec": {
   "display_name": "Python 3 (ipykernel)",
   "language": "python",
   "name": "python3"
  },
  "language_info": {
   "codemirror_mode": {
    "name": "ipython",
    "version": 3
   },
   "file_extension": ".py",
   "mimetype": "text/x-python",
   "name": "python",
   "nbconvert_exporter": "python",
   "pygments_lexer": "ipython3",
   "version": "3.12.9"
  }
 },
 "nbformat": 4,
 "nbformat_minor": 5
}
